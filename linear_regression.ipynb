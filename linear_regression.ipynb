{
  "nbformat": 4,
  "nbformat_minor": 0,
  "metadata": {
    "colab": {
      "provenance": []
    },
    "kernelspec": {
      "name": "python3",
      "display_name": "Python 3"
    },
    "language_info": {
      "name": "python"
    }
  },
  "cells": [
    {
      "cell_type": "code",
      "source": [
        "# clone in the sample datasets\n",
        "!git clone https://github.com/mayank-jain632/Linear-Regression-From-Scratch.git"
      ],
      "metadata": {
        "colab": {
          "base_uri": "https://localhost:8080/"
        },
        "id": "0DR3CNt-y8CS",
        "outputId": "1621df91-47ea-46c6-ac05-be1f88c58778"
      },
      "execution_count": 1,
      "outputs": [
        {
          "output_type": "stream",
          "name": "stdout",
          "text": [
            "Cloning into 'Linear-Regression-From-Scratch'...\n",
            "remote: Enumerating objects: 28, done.\u001b[K\n",
            "remote: Counting objects: 100% (28/28), done.\u001b[K\n",
            "remote: Compressing objects: 100% (25/25), done.\u001b[K\n",
            "remote: Total 28 (delta 5), reused 0 (delta 0), pack-reused 0\u001b[K\n",
            "Receiving objects: 100% (28/28), 38.31 KiB | 5.47 MiB/s, done.\n",
            "Resolving deltas: 100% (5/5), done.\n"
          ]
        }
      ]
    },
    {
      "cell_type": "code",
      "source": [
        "# make the neccesary imports\n",
        "import pandas as pd\n",
        "import numpy as np\n",
        "import matplotlib.pyplot as plt"
      ],
      "metadata": {
        "id": "ZYwg7rm0y-rz"
      },
      "execution_count": 2,
      "outputs": []
    },
    {
      "cell_type": "code",
      "source": [
        "# import the csv through pandas\n",
        "df = pd.read_csv(\"/content/Linear-Regression-From-Scratch/Linear-Regression.csv\")\n",
        "data = np.array(df)\n",
        "\n",
        "# normalize the data\n",
        "\n",
        "x1 = data[:, 0]\n",
        "y1 = data[:, 1]\n",
        "\n",
        "x = (x1 - np.min(x1)) / (np.max(x1) - np.min(x1))\n",
        "y = (y1 - np.min(y1)) / (np.max(y1) - np.min(y1))\n",
        "\n",
        "# instantiate the initial vals\n",
        "learning_rate = .1\n",
        "\n",
        "w = []\n",
        "k = 0\n",
        "\n",
        "x_list = []\n",
        "deriv = []"
      ],
      "metadata": {
        "id": "GmDYFsSlzAuD"
      },
      "execution_count": 3,
      "outputs": []
    },
    {
      "cell_type": "code",
      "source": [
        "# Important functions\n",
        "def make_x_list(x, k):\n",
        "    x_list.clear()  # Clear x_list before populating\n",
        "    for i in range(k + 1):\n",
        "        x_list.append(x ** i)\n",
        "\n",
        "def der(wi, x, y, i):\n",
        "    num = ((2 * ((wi * x) - y) * (x ** i)))\n",
        "    return num\n",
        "\n",
        "def update(xi, yi):\n",
        "    new_weights = w.copy()  # Create a copy of the current weights\n",
        "    for i in range(k + 1):\n",
        "        gradient = np.sum(der(w[i], xi, yi, i))\n",
        "        new_weights[i] = w[i] - (learning_rate) * gradient / len(x)\n",
        "    w[:] = new_weights  # Update all the weights simultaneously\n",
        "\n",
        "def init_w():\n",
        "    for i in range(k + 1):\n",
        "        #w.append((np.random.uniform(-1, 1)))\n",
        "        w.append(0)\n"
      ],
      "metadata": {
        "id": "7Ti7l4eziHEf"
      },
      "execution_count": 4,
      "outputs": []
    },
    {
      "cell_type": "code",
      "source": [
        "# initiate the weights and the epochs\n",
        "init_w()\n",
        "epoch = 0;\n",
        "\n",
        "# continue running for 1000 epochs (can be adjusted)\n",
        "while epoch < 1000:\n",
        "\n",
        "    loss = 0  # Reset loss for each epoch\n",
        "    for i in range(len(x)):\n",
        "        plugged_in = 0\n",
        "        make_x_list(x[i], k)\n",
        "        for j in range(k + 1):\n",
        "            plugged_in += x_list[j] * w[j]\n",
        "        #plugged_in -= y[i]\n",
        "        loss += (plugged_in - y[i]) ** 2\n",
        "        update(x[i], y[i])\n",
        "\n",
        "      # Compute average loss per data point\n",
        "    loss /= len(x)\n",
        "    epoch+=1\n",
        "\n",
        "    print(\"Epoch: \", epoch)\n",
        "    print(\"Loss:\", loss)\n",
        "    print(\"Coefficients: \", w)\n",
        "\n",
        "# print the final coefficients and final loss value\n",
        "print(\"Final coefficients: \", w)\n",
        "print(\"Loss:\", loss)\n",
        "\n",
        "# outputs removed to save space"
      ],
      "metadata": {
        "id": "2K-V7Rjb0qj8"
      },
      "execution_count": null,
      "outputs": []
    },
    {
      "cell_type": "code",
      "source": [
        "# Plot the dataset\n",
        "plt.xlabel('x')\n",
        "plt.ylabel('y')\n",
        "\n",
        "plt.scatter(x, y, label = \"original\")\n",
        "\n",
        "# plot the predicted line\n",
        "plt.plot(x, w[0] * x, color = \"yellow\", label = \"predicted\")\n",
        "\n",
        "plt.legend()\n",
        "plt.show()"
      ],
      "metadata": {
        "colab": {
          "base_uri": "https://localhost:8080/",
          "height": 449
        },
        "id": "9t4bqs01c44j",
        "outputId": "9cdd5daa-c4f1-4ba1-f743-987712594b7f"
      },
      "execution_count": 6,
      "outputs": [
        {
          "output_type": "display_data",
          "data": {
            "text/plain": [
              "<Figure size 640x480 with 1 Axes>"
            ],
            "image/png": "[encoded data removed]"
          },
          "metadata": {}
        }
      ]
    }
  ]
}