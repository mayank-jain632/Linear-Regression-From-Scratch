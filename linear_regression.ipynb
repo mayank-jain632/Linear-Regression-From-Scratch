{
  "nbformat": 4,
  "nbformat_minor": 0,
  "metadata": {
    "colab": {
      "provenance": []
    },
    "kernelspec": {
      "name": "python3",
      "display_name": "Python 3"
    },
    "language_info": {
      "name": "python"
    }
  },
  "cells": [
    {
      "cell_type": "code",
      "source": [
        "# clone in the sample datasets\n",
        "!git clone https://github.com/mayank-jain632/Linear-Regression-From-Scratch.git"
      ],
      "metadata": {
        "id": "0DR3CNt-y8CS"
      },
      "execution_count": null,
      "outputs": []
    },
    {
      "cell_type": "code",
      "source": [
        "# make the neccesary imports\n",
        "import pandas as pd\n",
        "import numpy as np\n",
        "import matplotlib.pyplot as plt"
      ],
      "metadata": {
        "id": "ZYwg7rm0y-rz"
      },
      "execution_count": 27,
      "outputs": []
    },
    {
      "cell_type": "code",
      "source": [
        "# import the csv through pandas\n",
        "df = pd.read_csv(\"/content/Linear-Regression-From-Scratch/Linear-Regression.csv\")\n",
        "data = np.array(df)\n",
        "\n",
        "# normalize the data\n",
        "\n",
        "x1 = data[:, 0]\n",
        "y1 = data[:, 1]\n",
        "\n",
        "x = (x1 - np.min(x1)) / (np.max(x1) - np.min(x1))\n",
        "y = (y1 - np.min(y1)) / (np.max(y1) - np.min(y1))\n",
        "\n",
        "# instantiate the initial vals\n",
        "learning_rate = .1\n",
        "\n",
        "w = []\n",
        "k = 0\n",
        "\n",
        "x_list = []\n",
        "deriv = []"
      ],
      "metadata": {
        "id": "GmDYFsSlzAuD"
      },
      "execution_count": 28,
      "outputs": []
    },
    {
      "cell_type": "code",
      "source": [
        "# Important functions\n",
        "def make_x_list(x, k):\n",
        "    x_list.clear()  # Clear x_list before populating\n",
        "    for i in range(k + 1):\n",
        "        x_list.append(x ** i)\n",
        "\n",
        "def der(wi, x, y, i):\n",
        "    num = ((2 * ((wi * x) - y) * (x ** i)))\n",
        "    return num\n",
        "\n",
        "def update(xi, yi):\n",
        "    new_weights = w.copy()  # Create a copy of the current weights\n",
        "    for i in range(k + 1):\n",
        "        gradient = np.sum(der(w[i], xi, yi, i))\n",
        "        new_weights[i] = w[i] - (learning_rate) * gradient / len(x)\n",
        "    w[:] = new_weights  # Update all the weights simultaneously\n",
        "\n",
        "def init_w():\n",
        "    for i in range(k + 1):\n",
        "        #w.append((np.random.uniform(-1, 1)))\n",
        "        w.append(0)\n"
      ],
      "metadata": {
        "id": "7Ti7l4eziHEf"
      },
      "execution_count": 29,
      "outputs": []
    },
    {
      "cell_type": "code",
      "source": [
        "# initiate the weights and the epochs\n",
        "init_w()\n",
        "epoch = 0;\n",
        "\n",
        "# continue running for 1000 epochs (can be adjusted)\n",
        "while epoch < 1000:\n",
        "    prevLoss = loss;\n",
        "\n",
        "    loss = 0  # Reset loss for each epoch\n",
        "    for i in range(len(x)):\n",
        "        plugged_in = 0\n",
        "        make_x_list(x[i], k)\n",
        "        for j in range(k + 1):\n",
        "            plugged_in += x_list[j] * w[j]\n",
        "        #plugged_in -= y[i]\n",
        "        loss += (plugged_in - y[i]) ** 2\n",
        "        update(x[i], y[i])\n",
        "\n",
        "      # Compute average loss per data point\n",
        "    loss /= len(x)\n",
        "    epoch+=1\n",
        "\n",
        "    print(\"Epoch: \", epoch)\n",
        "    print(\"Loss:\", loss)\n",
        "    print(\"Coefficients: \", w)\n",
        "\n",
        "# print the final coefficients and final loss value\n",
        "print(\"Final coefficients: \", w)\n",
        "print(\"Loss:\", loss)\n"
      ],
      "metadata": {
        "id": "2K-V7Rjb0qj8"
      },
      "execution_count": null,
      "outputs": []
    },
    {
      "cell_type": "code",
      "source": [
        "# Plot the dataset\n",
        "plt.xlabel('x')\n",
        "plt.ylabel('y')\n",
        "\n",
        "plt.scatter(x, y, label = \"original\")\n",
        "\n",
        "# plot the predicted line\n",
        "plt.plot(x, w[0] * x, color = \"yellow\", label = \"predicted\")\n",
        "\n",
        "plt.legend()\n",
        "plt.show()"
      ],
      "metadata": {
        "id": "9t4bqs01c44j"
      },
      "execution_count": null,
      "outputs": []
    }
  ]
}